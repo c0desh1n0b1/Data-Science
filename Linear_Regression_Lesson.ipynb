{
  "nbformat": 4,
  "nbformat_minor": 0,
  "metadata": {
    "colab": {
      "name": "Linear Regression Lesson.ipynb",
      "provenance": [],
      "collapsed_sections": [],
      "toc_visible": true,
      "authorship_tag": "ABX9TyMWzg6f3crRFeTNnCU34UkX",
      "include_colab_link": true
    },
    "kernelspec": {
      "display_name": "Python 3",
      "name": "python3"
    },
    "language_info": {
      "name": "python"
    }
  },
  "cells": [
    {
      "cell_type": "markdown",
      "metadata": {
        "id": "view-in-github",
        "colab_type": "text"
      },
      "source": [
        "<a href=\"https://colab.research.google.com/github/c0desh1n0b1/Data-Science/blob/Linear-Regression-(Learning)/Linear_Regression_Lesson.ipynb\" target=\"_parent\"><img src=\"https://colab.research.google.com/assets/colab-badge.svg\" alt=\"Open In Colab\"/></a>"
      ]
    },
    {
      "cell_type": "markdown",
      "metadata": {
        "id": "ZuxyAeUMLLlQ"
      },
      "source": [
        "Linear Regression(This is a Linear Regression Practice, I will use the Python for dummies and Hands-On Machine Learning with Scikit-Learn and TensorFlow"
      ]
    },
    {
      "cell_type": "markdown",
      "metadata": {
        "id": "ti9rzuukW6yc"
      },
      "source": [
        "# Introduction to Linear Regression"
      ]
    },
    {
      "cell_type": "code",
      "metadata": {
        "colab": {
          "base_uri": "https://localhost:8080/",
          "height": 299
        },
        "id": "EULfP_PfKxhA",
        "outputId": "8373bd13-e02f-4454-fc6b-fbfbf6112d78"
      },
      "source": [
        "%matplotlib inline\n",
        "import numpy as np\n",
        "import matplotlib.pyplot as plt\n",
        "\n",
        "x = range(0,9)\n",
        "y = (25,33,41,53,59,70,78,86,98)\n",
        "\n",
        "\n",
        "plt.scatter(x,y)\n",
        "\n",
        "z = np.polyfit(x,y,1)\n",
        "p = np.poly1d(z)\n",
        "\n",
        "plt.plot(x,p(x),'g-')\n",
        "plt.show()\n",
        "print(np.poly1d(p(95)))"
      ],
      "execution_count": null,
      "outputs": [
        {
          "data": {
            "image/png": "[encoded data removed]",
            "text/plain": [
              "<Figure size 432x288 with 1 Axes>"
            ]
          },
          "metadata": {},
          "output_type": "display_data"
        },
        {
          "name": "stdout",
          "output_type": "stream",
          "text": [
            " \n",
            "882.4\n"
          ]
        }
      ]
    },
    {
      "cell_type": "markdown",
      "metadata": {
        "id": "UinICUhL-X_F"
      },
      "source": [
        "**The code above contains the following functions and modules:**\n",
        "\n",
        "\n",
        "1.   %Matplotlib inline - **Allows results to be viewed within the notebook**\n",
        "2.   polyfit() - **Fits a linear line model to the speciified data points'z'**\n",
        "3.   poly1d() - **Creates the function to create the line of best fit(*y=mx +c*)**\n",
        "\n",
        "\n",
        "\n",
        "\n"
      ]
    },
    {
      "cell_type": "code",
      "metadata": {
        "colab": {
          "base_uri": "https://localhost:8080/"
        },
        "id": "sWBH3kt87RhC",
        "outputId": "9f7cf278-6cc1-4b19-8cbe-8f913096d11d"
      },
      "source": [
        "print(np.poly1d(p))"
      ],
      "execution_count": null,
      "outputs": [
        {
          "name": "stdout",
          "output_type": "stream",
          "text": [
            " \n",
            "9.033 x + 24.2\n"
          ]
        }
      ]
    },
    {
      "cell_type": "markdown",
      "metadata": {
        "id": "QzyJzFma_8EA"
      },
      "source": [
        "**The poly1d will be printed out as shown on the code above**:\n",
        "9.033 x + 24\n",
        "\n",
        "If x = 6 it would = 9.033 (6) + 24 = 78.398"
      ]
    },
    {
      "cell_type": "markdown",
      "metadata": {
        "id": "etsEaUY9ApKw"
      },
      "source": [
        "# Multiple Linear Regression \n",
        "This section will provide training on how to tackle multiple linear regression:\n",
        "\n",
        "I will be using the sklearn.linear_model import LinearRegression \n"
      ]
    },
    {
      "cell_type": "code",
      "metadata": {
        "id": "Fsr3mA4tHy82"
      },
      "source": [
        "from sklearn.linear_model import LinearRegression\n",
        "import pandas as pd\n",
        "\n",
        "i = (0,-1,-3,-4,-5,-7,-8,-9,-11)\n"
      ],
      "execution_count": null,
      "outputs": []
    },
    {
      "cell_type": "markdown",
      "metadata": {
        "id": "G7tQlPMKIl-1"
      },
      "source": [
        "*In this section there are 2 individual independent variables which changes the equation to:*\n",
        "\n",
        "**y = a + b1x1 + b2x2**"
      ]
    },
    {
      "cell_type": "code",
      "metadata": {
        "colab": {
          "base_uri": "https://localhost:8080/",
          "height": 282
        },
        "id": "nvQd7PhxJkVt",
        "outputId": "fa4414e9-4e93-49ba-9018-6cc9cf2e787b"
      },
      "source": [
        "studyData = pd.DataFrame({'Grades':y, 'Interruptions':i})\n",
        "#Create a dataframe using pandas\n",
        "plt.scatter(x,y)\n",
        "plt.scatter(x,i)\n",
        "#The code above shows the points plotted between the interrupt to x and grades to x(study hours)\n",
        "#Use of plt.scatter to show this points on the graph as a scattergraph\n",
        "plt.legend(['Grades','Interruptions'])\n",
        "#The plt.legend makes it easy to identify the different scatters of Grades and Interrupt"
      ],
      "execution_count": null,
      "outputs": [
        {
          "data": {
            "text/plain": [
              "<matplotlib.legend.Legend at 0x7f7b88c5e310>"
            ]
          },
          "execution_count": 4,
          "metadata": {},
          "output_type": "execute_result"
        },
        {
          "data": {
            "image/png": "[encoded data removed]",
            "text/plain": [
              "<Figure size 432x288 with 1 Axes>"
            ]
          },
          "metadata": {},
          "output_type": "display_data"
        }
      ]
    },
    {
      "cell_type": "code",
      "metadata": {
        "id": "YsY8_LFYKrbk"
      },
      "source": [
        "regress = LinearRegression()\n",
        "#Use the linear regression from the import sklearn.linear_model \n",
        "model = regress.fit(studyData,x)\n",
        "#Use the linear regression to produce a line of best \n",
        "studyData_pred = model.predict(studyData)\n",
        "#Use the linear fit to predict future models"
      ],
      "execution_count": null,
      "outputs": []
    },
    {
      "cell_type": "code",
      "metadata": {
        "colab": {
          "base_uri": "https://localhost:8080/",
          "height": 265
        },
        "id": "sd0LK0J2Mxrd",
        "outputId": "155f5868-b484-4960-e168-82f025cb6dea"
      },
      "source": [
        "plt.plot(studyData_pred,studyData,'g-')\n",
        "plt.show()"
      ],
      "execution_count": null,
      "outputs": [
        {
          "data": {
            "image/png": "[encoded data removed]",
            "text/plain": [
              "<Figure size 432x288 with 1 Axes>"
            ]
          },
          "metadata": {},
          "output_type": "display_data"
        }
      ]
    },
    {
      "cell_type": "markdown",
      "metadata": {
        "id": "TkmUE4ClM9Zl"
      },
      "source": [
        "**The lineabove shows the best lines of for both data for the Grades and Interrupt, where the more the interruptions, the less the grades and vice versa**"
      ]
    },
    {
      "cell_type": "code",
      "metadata": {
        "colab": {
          "base_uri": "https://localhost:8080/",
          "height": 265
        },
        "id": "r7oGtE0QO8hf",
        "outputId": "bc1bad84-409c-4a17-e4f6-e57bdc2a4226"
      },
      "source": [
        "studyData = pd.DataFrame({'Grades':y, 'Interruptions':i})\n",
        "#Create a dataframe using pandas\n",
        "plt.scatter(x,y)\n",
        "plt.scatter(x,i)\n",
        "#The code above shows the points plotted between the interrupt to x and grades to x(study hours)\n",
        "#Use of plt.scatter to show this points on the graph as a scattergraph\n",
        "plt.legend(['Grades','Interruptions'])\n",
        "#The plt.legend makes it easy to identify the different scatters of Grades and Interrupt\n",
        "regress = LinearRegression()\n",
        "#Use the linear regression from the import sklearn.linear_model \n",
        "model = regress.fit(studyData,x)\n",
        "#Use the linear regression to produce a line of best \n",
        "studyData_pred = model.predict(studyData)\n",
        "#Use the linear fit to predict future models\n",
        "plt.plot(studyData_pred,studyData,'g-')\n",
        "plt.show()"
      ],
      "execution_count": null,
      "outputs": [
        {
          "data": {
            "image/png": "[encoded data removed]",
            "text/plain": [
              "<Figure size 432x288 with 1 Axes>"
            ]
          },
          "metadata": {},
          "output_type": "display_data"
        }
      ]
    },
    {
      "cell_type": "markdown",
      "metadata": {
        "id": "Al4uR63gPEde"
      },
      "source": [
        "*The code above shows a collation of the above cells where we see that the code in full effect with the lines of best fit plotted on the scatter points*"
      ]
    },
    {
      "cell_type": "code",
      "metadata": {
        "colab": {
          "base_uri": "https://localhost:8080/"
        },
        "id": "SXXM0Wp5REEO",
        "outputId": "277445cc-550e-49c4-d369-727b6512b492"
      },
      "source": [
        "print(model.predict([[95,-7]]).round(2).item(0))\n",
        "#So in this scenario we want to predict study hours for a 95 grade with 7 interruption(hence the negative)\n",
        "#Once the hours are found round to 2 dp\n"
      ],
      "execution_count": null,
      "outputs": [
        {
          "name": "stdout",
          "output_type": "stream",
          "text": [
            "7.47\n"
          ]
        }
      ]
    },
    {
      "cell_type": "markdown",
      "metadata": {
        "id": "1H0WspGjSUbK"
      },
      "source": [
        "**To be able to predict you have to use a 2 dimensional array to consider the grade and interruptions**"
      ]
    },
    {
      "cell_type": "code",
      "metadata": {
        "colab": {
          "base_uri": "https://localhost:8080/"
        },
        "id": "qfJ1qro7SuHS",
        "outputId": "e57d26bd-dcf9-46f8-c469-ec1fd933f956"
      },
      "source": [
        "print(model.predict([[90,0],[98,-5]]).round(2))\n",
        "#Here we want to predict the amount of study hours I would like to achieve with \n",
        "#90 grades with 0 interruptions\n",
        "#98 with 5 interruptions.\n"
      ],
      "execution_count": null,
      "outputs": [
        {
          "name": "stdout",
          "output_type": "stream",
          "text": [
            "[6.29 7.56]\n"
          ]
        }
      ]
    },
    {
      "cell_type": "markdown",
      "metadata": {
        "id": "70RkejeEjMZa"
      },
      "source": [
        "#Categorical Variables"
      ]
    },
    {
      "cell_type": "markdown",
      "metadata": {
        "id": "HFYAmim8jXl2"
      },
      "source": [
        "*Categorical Variables* - **Is data that is fixed and usually takes one of a limited, some of the categoriacal data are:**\n",
        "1. Binary - Yes/No type of categories(2 options)\n",
        "2. Nomial - Group without any rank or order i.e Colour, Brand\n",
        "3. Ordinal - Groups with rank and order# i.e Position of finishing a race.\n"
      ]
    },
    {
      "cell_type": "code",
      "metadata": {
        "colab": {
          "base_uri": "https://localhost:8080/"
        },
        "id": "KeXWmEGNmT4a",
        "outputId": "f7d68a36-70a1-4d0b-fa05-1a66f0bcbdbc"
      },
      "source": [
        "import pandas as pd \n",
        "\n",
        "cars_colors = pd.Series(['Blue','Red','Green'],dtype='category')\n",
        "#Create a categorical variable for car colour whcih are acceptable for a car colour\n",
        "\n",
        "car_data = pd.Series(\n",
        "    pd.Categorical(\n",
        "        ['Blue','Green','Red','Blue','Red'],\n",
        "        categories = cars_colors,ordered =False))\n",
        "#Create a categorical variable for actual car colour data\n",
        "find_entries =pd.isnull(car_data)\n",
        "#if the car data color is not available in car data return a null\n",
        "#When \n",
        "print(cars_colors)\n",
        "print()\n",
        "print(car_data)\n",
        "print()\n",
        "print(find_entries[find_entries==True])"
      ],
      "execution_count": null,
      "outputs": [
        {
          "name": "stdout",
          "output_type": "stream",
          "text": [
            "0     Blue\n",
            "1      Red\n",
            "2    Green\n",
            "dtype: category\n",
            "Categories (3, object): ['Blue', 'Green', 'Red']\n",
            "\n",
            "0     Blue\n",
            "1    Green\n",
            "2      Red\n",
            "3     Blue\n",
            "4      Red\n",
            "dtype: category\n",
            "Categories (3, object): ['Blue', 'Green', 'Red']\n",
            "\n",
            "Series([], dtype: bool)\n"
          ]
        }
      ]
    },
    {
      "cell_type": "code",
      "metadata": {
        "colab": {
          "base_uri": "https://localhost:8080/"
        },
        "id": "FO0gUh6UoqKc",
        "outputId": "5bfdeab5-6970-435b-af6e-dae0c66dd59a"
      },
      "source": [
        "#Renaming categories\n",
        "cars_colors.cat.categories = [\"Purple\",\"Yellow\",\"Mauve\"]\n",
        "car_data.cat.categories = cars_colors\n",
        "#Use of cat.categories to set a new value.\n",
        "\n",
        "print(car_data)"
      ],
      "execution_count": null,
      "outputs": [
        {
          "name": "stdout",
          "output_type": "stream",
          "text": [
            "0    Purple\n",
            "1    Yellow\n",
            "2     Mauve\n",
            "3    Purple\n",
            "4     Mauve\n",
            "dtype: category\n",
            "Categories (3, object): ['Purple', 'Yellow', 'Mauve']\n"
          ]
        }
      ]
    },
    {
      "cell_type": "code",
      "metadata": {
        "colab": {
          "base_uri": "https://localhost:8080/"
        },
        "id": "yaLSM8itvkUC",
        "outputId": "12d919a1-af4b-4879-b46a-e29eda68077b"
      },
      "source": [
        "import pandas as pd\n",
        "cars_colors = pd.Series(['Blue','Red','Green'],dtype = 'category')\n",
        "car_data = pd.Series(pd.Categorical(['Blue','Green','Red','Green','Red','Green'],\n",
        "                                    categories=cars_colors,ordered=False))\n",
        "car_data = car_data.cat.set_categories(['Blue','Red','Green','Blue_Red'])\n",
        "#Adding the Blue_Red category into the car data variable\n",
        "print(car_data.loc[car_data.isin(['Red'])])\n",
        "#Loc[] will be used to locate the index of the red Data\n",
        "#isin() will be used to locate the red entries\n",
        "car_data.loc[car_data.isin(['Red'])]= 'Blue_Red'\n",
        "#Change Red to Blue_Red\n",
        "car_data.loc[car_data.isin(['Blue'])]= 'Blue_Red'\n",
        "#Change Blue to Blue_Red\n",
        "car_data = car_data.cat.set_categories(['Green','Blue_Red'])\n",
        "#By setting new category it will combine the New Blue and Red entries into Blue_Red\n",
        "print()\n",
        "print(car_data)"
      ],
      "execution_count": null,
      "outputs": [
        {
          "name": "stdout",
          "output_type": "stream",
          "text": [
            "2    Red\n",
            "4    Red\n",
            "dtype: category\n",
            "Categories (4, object): ['Blue', 'Red', 'Green', 'Blue_Red']\n",
            "\n",
            "0    Blue_Red\n",
            "1       Green\n",
            "2    Blue_Red\n",
            "3       Green\n",
            "4    Blue_Red\n",
            "5       Green\n",
            "dtype: category\n",
            "Categories (2, object): ['Green', 'Blue_Red']\n"
          ]
        }
      ]
    },
    {
      "cell_type": "code",
      "metadata": {
        "colab": {
          "base_uri": "https://localhost:8080/",
          "height": 319
        },
        "id": "Tiq1z53AQjoc",
        "outputId": "98d710bc-b83f-49c3-df9c-a1787447a863"
      },
      "source": [
        "import seaborn\n",
        "import matplotlib.pyplot as plt\n",
        "import numpy as np\n",
        "\n",
        "\n",
        "import random\n",
        "x = range(0,9)\n",
        "y = []\n",
        "for i in range(0,9):\n",
        "  n = random.randint(0,99)\n",
        "  #Between 0 and 99 pick a random integer\n",
        "  y.append(n)\n",
        "  #Appned the random n into the y list\n",
        "#Generate a random list\n",
        "yt = tuple(y)\n",
        "#Convert the random list into a tuple\n",
        "\n",
        "plt.scatter(x,y,color='purple',marker='*')\n",
        "#plot the scatter points in x and y, use the colour purple for this points with a *marker\n",
        "plt.grid()\n",
        "#Plot a grid \n",
        "\n",
        "z = np.polyfit(x,yt,1)\n",
        "#Use polyfit to find the line of best fit \n",
        "p=np.poly1d(z)\n",
        "#poly1d will allow the presentation of y = mx + c\n",
        "\n",
        "plt.plot(x,p(x),'b')\n",
        "#Plot the multiple pairs x and y with a regression line,colour y.\n",
        "\n",
        "seaborn.residplot(np.array(x),np.array(y),color='red')\n",
        "#Will regress x on y as a polynomial and plot the residuals which are presented in red\n",
        "plt.show()\n"
      ],
      "execution_count": null,
      "outputs": [
        {
          "name": "stderr",
          "output_type": "stream",
          "text": [
            "/usr/local/lib/python3.7/dist-packages/seaborn/_decorators.py:43: FutureWarning: Pass the following variables as keyword args: x, y. From version 0.12, the only valid positional argument will be `data`, and passing other arguments without an explicit keyword will result in an error or misinterpretation.\n",
            "  FutureWarning\n"
          ]
        },
        {
          "data": {
            "image/png": "[encoded data removed]",
            "text/plain": [
              "<Figure size 432x288 with 1 Axes>"
            ]
          },
          "metadata": {},
          "output_type": "display_data"
        }
      ]
    },
    {
      "cell_type": "markdown",
      "metadata": {
        "id": "f52dENX8GFQM"
      },
      "source": [
        "# Practical 1\n",
        "**In this section I will use the boston dataset to learn linear regression**"
      ]
    },
    {
      "cell_type": "code",
      "metadata": {
        "id": "d2zVGhgWGe0-"
      },
      "source": [
        "from sklearn.datasets import load_boston\n",
        "#retrieve datasets from sklearn where I will load boston data\n",
        "from sklearn.preprocessing import scale\n",
        "#\n",
        "boston = load_boston()\n",
        "X = scale(boston.data)\n",
        "y = boston.target"
      ],
      "execution_count": null,
      "outputs": []
    },
    {
      "cell_type": "code",
      "metadata": {
        "colab": {
          "base_uri": "https://localhost:8080/"
        },
        "id": "uKo_EIQmO9tC",
        "outputId": "a309a776-f85a-4c62-b75e-5178ade6f9f9"
      },
      "source": [
        "print(boston.DESCR)\n",
        "#Provides more details on boston dataset"
      ],
      "execution_count": null,
      "outputs": [
        {
          "name": "stdout",
          "output_type": "stream",
          "text": [
            ".. _boston_dataset:\n",
            "\n",
            "Boston house prices dataset\n",
            "---------------------------\n",
            "\n",
            "**Data Set Characteristics:**  \n",
            "\n",
            "    :Number of Instances: 506 \n",
            "\n",
            "    :Number of Attributes: 13 numeric/categorical predictive. Median Value (attribute 14) is usually the target.\n",
            "\n",
            "    :Attribute Information (in order):\n",
            "        - CRIM     per capita crime rate by town\n",
            "        - ZN       proportion of residential land zoned for lots over 25,000 sq.ft.\n",
            "        - INDUS    proportion of non-retail business acres per town\n",
            "        - CHAS     Charles River dummy variable (= 1 if tract bounds river; 0 otherwise)\n",
            "        - NOX      nitric oxides concentration (parts per 10 million)\n",
            "        - RM       average number of rooms per dwelling\n",
            "        - AGE      proportion of owner-occupied units built prior to 1940\n",
            "        - DIS      weighted distances to five Boston employment centres\n",
            "        - RAD      index of accessibility to radial highways\n",
            "        - TAX      full-value property-tax rate per $10,000\n",
            "        - PTRATIO  pupil-teacher ratio by town\n",
            "        - B        1000(Bk - 0.63)^2 where Bk is the proportion of blacks by town\n",
            "        - LSTAT    % lower status of the population\n",
            "        - MEDV     Median value of owner-occupied homes in $1000's\n",
            "\n",
            "    :Missing Attribute Values: None\n",
            "\n",
            "    :Creator: Harrison, D. and Rubinfeld, D.L.\n",
            "\n",
            "This is a copy of UCI ML housing dataset.\n",
            "https://archive.ics.uci.edu/ml/machine-learning-databases/housing/\n",
            "\n",
            "\n",
            "This dataset was taken from the StatLib library which is maintained at Carnegie Mellon University.\n",
            "\n",
            "The Boston house-price data of Harrison, D. and Rubinfeld, D.L. 'Hedonic\n",
            "prices and the demand for clean air', J. Environ. Economics & Management,\n",
            "vol.5, 81-102, 1978.   Used in Belsley, Kuh & Welsch, 'Regression diagnostics\n",
            "...', Wiley, 1980.   N.B. Various transformations are used in the table on\n",
            "pages 244-261 of the latter.\n",
            "\n",
            "The Boston house-price data has been used in many machine learning papers that address regression\n",
            "problems.   \n",
            "     \n",
            ".. topic:: References\n",
            "\n",
            "   - Belsley, Kuh & Welsch, 'Regression diagnostics: Identifying Influential Data and Sources of Collinearity', Wiley, 1980. 244-261.\n",
            "   - Quinlan,R. (1993). Combining Instance-Based and Model-Based Learning. In Proceedings on the Tenth International Conference of Machine Learning, 236-243, University of Massachusetts, Amherst. Morgan Kaufmann.\n",
            "\n"
          ]
        }
      ]
    },
    {
      "cell_type": "markdown",
      "metadata": {
        "id": "rmM28tsCG9z9"
      },
      "source": [
        "*The sklearn dataset contains datasets which I used load_boston to retrieve boston housing data which will use to predict the housing price in boston*\n",
        "\n",
        "The DESCR will provide more details on the dataset\n",
        "\n",
        "**Use the scale(data) is used to standardise the data, making it all into one range In this case between 0 and 1**"
      ]
    },
    {
      "cell_type": "code",
      "metadata": {
        "colab": {
          "base_uri": "https://localhost:8080/"
        },
        "id": "7jhz6epFQoTS",
        "outputId": "08ac8624-aa8e-4196-b0a4-983eedeaf22c"
      },
      "source": [
        "print(boston)\n",
        "#Boston data"
      ],
      "execution_count": null,
      "outputs": [
        {
          "name": "stdout",
          "output_type": "stream",
          "text": [
            "{'data': array([[6.3200e-03, 1.8000e+01, 2.3100e+00, ..., 1.5300e+01, 3.9690e+02,\n",
            "        4.9800e+00],\n",
            "       [2.7310e-02, 0.0000e+00, 7.0700e+00, ..., 1.7800e+01, 3.9690e+02,\n",
            "        9.1400e+00],\n",
            "       [2.7290e-02, 0.0000e+00, 7.0700e+00, ..., 1.7800e+01, 3.9283e+02,\n",
            "        4.0300e+00],\n",
            "       ...,\n",
            "       [6.0760e-02, 0.0000e+00, 1.1930e+01, ..., 2.1000e+01, 3.9690e+02,\n",
            "        5.6400e+00],\n",
            "       [1.0959e-01, 0.0000e+00, 1.1930e+01, ..., 2.1000e+01, 3.9345e+02,\n",
            "        6.4800e+00],\n",
            "       [4.7410e-02, 0.0000e+00, 1.1930e+01, ..., 2.1000e+01, 3.9690e+02,\n",
            "        7.8800e+00]]), 'target': array([24. , 21.6, 34.7, 33.4, 36.2, 28.7, 22.9, 27.1, 16.5, 18.9, 15. ,\n",
            "       18.9, 21.7, 20.4, 18.2, 19.9, 23.1, 17.5, 20.2, 18.2, 13.6, 19.6,\n",
            "       15.2, 14.5, 15.6, 13.9, 16.6, 14.8, 18.4, 21. , 12.7, 14.5, 13.2,\n",
            "       13.1, 13.5, 18.9, 20. , 21. , 24.7, 30.8, 34.9, 26.6, 25.3, 24.7,\n",
            "       21.2, 19.3, 20. , 16.6, 14.4, 19.4, 19.7, 20.5, 25. , 23.4, 18.9,\n",
            "       35.4, 24.7, 31.6, 23.3, 19.6, 18.7, 16. , 22.2, 25. , 33. , 23.5,\n",
            "       19.4, 22. , 17.4, 20.9, 24.2, 21.7, 22.8, 23.4, 24.1, 21.4, 20. ,\n",
            "       20.8, 21.2, 20.3, 28. , 23.9, 24.8, 22.9, 23.9, 26.6, 22.5, 22.2,\n",
            "       23.6, 28.7, 22.6, 22. , 22.9, 25. , 20.6, 28.4, 21.4, 38.7, 43.8,\n",
            "       33.2, 27.5, 26.5, 18.6, 19.3, 20.1, 19.5, 19.5, 20.4, 19.8, 19.4,\n",
            "       21.7, 22.8, 18.8, 18.7, 18.5, 18.3, 21.2, 19.2, 20.4, 19.3, 22. ,\n",
            "       20.3, 20.5, 17.3, 18.8, 21.4, 15.7, 16.2, 18. , 14.3, 19.2, 19.6,\n",
            "       23. , 18.4, 15.6, 18.1, 17.4, 17.1, 13.3, 17.8, 14. , 14.4, 13.4,\n",
            "       15.6, 11.8, 13.8, 15.6, 14.6, 17.8, 15.4, 21.5, 19.6, 15.3, 19.4,\n",
            "       17. , 15.6, 13.1, 41.3, 24.3, 23.3, 27. , 50. , 50. , 50. , 22.7,\n",
            "       25. , 50. , 23.8, 23.8, 22.3, 17.4, 19.1, 23.1, 23.6, 22.6, 29.4,\n",
            "       23.2, 24.6, 29.9, 37.2, 39.8, 36.2, 37.9, 32.5, 26.4, 29.6, 50. ,\n",
            "       32. , 29.8, 34.9, 37. , 30.5, 36.4, 31.1, 29.1, 50. , 33.3, 30.3,\n",
            "       34.6, 34.9, 32.9, 24.1, 42.3, 48.5, 50. , 22.6, 24.4, 22.5, 24.4,\n",
            "       20. , 21.7, 19.3, 22.4, 28.1, 23.7, 25. , 23.3, 28.7, 21.5, 23. ,\n",
            "       26.7, 21.7, 27.5, 30.1, 44.8, 50. , 37.6, 31.6, 46.7, 31.5, 24.3,\n",
            "       31.7, 41.7, 48.3, 29. , 24. , 25.1, 31.5, 23.7, 23.3, 22. , 20.1,\n",
            "       22.2, 23.7, 17.6, 18.5, 24.3, 20.5, 24.5, 26.2, 24.4, 24.8, 29.6,\n",
            "       42.8, 21.9, 20.9, 44. , 50. , 36. , 30.1, 33.8, 43.1, 48.8, 31. ,\n",
            "       36.5, 22.8, 30.7, 50. , 43.5, 20.7, 21.1, 25.2, 24.4, 35.2, 32.4,\n",
            "       32. , 33.2, 33.1, 29.1, 35.1, 45.4, 35.4, 46. , 50. , 32.2, 22. ,\n",
            "       20.1, 23.2, 22.3, 24.8, 28.5, 37.3, 27.9, 23.9, 21.7, 28.6, 27.1,\n",
            "       20.3, 22.5, 29. , 24.8, 22. , 26.4, 33.1, 36.1, 28.4, 33.4, 28.2,\n",
            "       22.8, 20.3, 16.1, 22.1, 19.4, 21.6, 23.8, 16.2, 17.8, 19.8, 23.1,\n",
            "       21. , 23.8, 23.1, 20.4, 18.5, 25. , 24.6, 23. , 22.2, 19.3, 22.6,\n",
            "       19.8, 17.1, 19.4, 22.2, 20.7, 21.1, 19.5, 18.5, 20.6, 19. , 18.7,\n",
            "       32.7, 16.5, 23.9, 31.2, 17.5, 17.2, 23.1, 24.5, 26.6, 22.9, 24.1,\n",
            "       18.6, 30.1, 18.2, 20.6, 17.8, 21.7, 22.7, 22.6, 25. , 19.9, 20.8,\n",
            "       16.8, 21.9, 27.5, 21.9, 23.1, 50. , 50. , 50. , 50. , 50. , 13.8,\n",
            "       13.8, 15. , 13.9, 13.3, 13.1, 10.2, 10.4, 10.9, 11.3, 12.3,  8.8,\n",
            "        7.2, 10.5,  7.4, 10.2, 11.5, 15.1, 23.2,  9.7, 13.8, 12.7, 13.1,\n",
            "       12.5,  8.5,  5. ,  6.3,  5.6,  7.2, 12.1,  8.3,  8.5,  5. , 11.9,\n",
            "       27.9, 17.2, 27.5, 15. , 17.2, 17.9, 16.3,  7. ,  7.2,  7.5, 10.4,\n",
            "        8.8,  8.4, 16.7, 14.2, 20.8, 13.4, 11.7,  8.3, 10.2, 10.9, 11. ,\n",
            "        9.5, 14.5, 14.1, 16.1, 14.3, 11.7, 13.4,  9.6,  8.7,  8.4, 12.8,\n",
            "       10.5, 17.1, 18.4, 15.4, 10.8, 11.8, 14.9, 12.6, 14.1, 13. , 13.4,\n",
            "       15.2, 16.1, 17.8, 14.9, 14.1, 12.7, 13.5, 14.9, 20. , 16.4, 17.7,\n",
            "       19.5, 20.2, 21.4, 19.9, 19. , 19.1, 19.1, 20.1, 19.9, 19.6, 23.2,\n",
            "       29.8, 13.8, 13.3, 16.7, 12. , 14.6, 21.4, 23. , 23.7, 25. , 21.8,\n",
            "       20.6, 21.2, 19.1, 20.6, 15.2,  7. ,  8.1, 13.6, 20.1, 21.8, 24.5,\n",
            "       23.1, 19.7, 18.3, 21.2, 17.5, 16.8, 22.4, 20.6, 23.9, 22. , 11.9]), 'feature_names': array(['CRIM', 'ZN', 'INDUS', 'CHAS', 'NOX', 'RM', 'AGE', 'DIS', 'RAD',\n",
            "       'TAX', 'PTRATIO', 'B', 'LSTAT'], dtype='<U7'), 'DESCR': \".. _boston_dataset:\\n\\nBoston house prices dataset\\n---------------------------\\n\\n**Data Set Characteristics:**  \\n\\n    :Number of Instances: 506 \\n\\n    :Number of Attributes: 13 numeric/categorical predictive. Median Value (attribute 14) is usually the target.\\n\\n    :Attribute Information (in order):\\n        - CRIM     per capita crime rate by town\\n        - ZN       proportion of residential land zoned for lots over 25,000 sq.ft.\\n        - INDUS    proportion of non-retail business acres per town\\n        - CHAS     Charles River dummy variable (= 1 if tract bounds river; 0 otherwise)\\n        - NOX      nitric oxides concentration (parts per 10 million)\\n        - RM       average number of rooms per dwelling\\n        - AGE      proportion of owner-occupied units built prior to 1940\\n        - DIS      weighted distances to five Boston employment centres\\n        - RAD      index of accessibility to radial highways\\n        - TAX      full-value property-tax rate per $10,000\\n        - PTRATIO  pupil-teacher ratio by town\\n        - B        1000(Bk - 0.63)^2 where Bk is the proportion of blacks by town\\n        - LSTAT    % lower status of the population\\n        - MEDV     Median value of owner-occupied homes in $1000's\\n\\n    :Missing Attribute Values: None\\n\\n    :Creator: Harrison, D. and Rubinfeld, D.L.\\n\\nThis is a copy of UCI ML housing dataset.\\nhttps://archive.ics.uci.edu/ml/machine-learning-databases/housing/\\n\\n\\nThis dataset was taken from the StatLib library which is maintained at Carnegie Mellon University.\\n\\nThe Boston house-price data of Harrison, D. and Rubinfeld, D.L. 'Hedonic\\nprices and the demand for clean air', J. Environ. Economics & Management,\\nvol.5, 81-102, 1978.   Used in Belsley, Kuh & Welsch, 'Regression diagnostics\\n...', Wiley, 1980.   N.B. Various transformations are used in the table on\\npages 244-261 of the latter.\\n\\nThe Boston house-price data has been used in many machine learning papers that address regression\\nproblems.   \\n     \\n.. topic:: References\\n\\n   - Belsley, Kuh & Welsch, 'Regression diagnostics: Identifying Influential Data and Sources of Collinearity', Wiley, 1980. 244-261.\\n   - Quinlan,R. (1993). Combining Instance-Based and Model-Based Learning. In Proceedings on the Tenth International Conference of Machine Learning, 236-243, University of Massachusetts, Amherst. Morgan Kaufmann.\\n\", 'filename': '/usr/local/lib/python3.7/dist-packages/sklearn/datasets/data/boston_house_prices.csv'}\n"
          ]
        }
      ]
    },
    {
      "cell_type": "code",
      "metadata": {
        "colab": {
          "base_uri": "https://localhost:8080/"
        },
        "id": "H6-CaN2EQiwB",
        "outputId": "09b2374f-16c5-4820-c483-64c7e1bc32da"
      },
      "source": [
        "print(X)\n",
        "#Scaled data"
      ],
      "execution_count": null,
      "outputs": [
        {
          "name": "stdout",
          "output_type": "stream",
          "text": [
            "[[-0.41978194  0.28482986 -1.2879095  ... -1.45900038  0.44105193\n",
            "  -1.0755623 ]\n",
            " [-0.41733926 -0.48772236 -0.59338101 ... -0.30309415  0.44105193\n",
            "  -0.49243937]\n",
            " [-0.41734159 -0.48772236 -0.59338101 ... -0.30309415  0.39642699\n",
            "  -1.2087274 ]\n",
            " ...\n",
            " [-0.41344658 -0.48772236  0.11573841 ...  1.17646583  0.44105193\n",
            "  -0.98304761]\n",
            " [-0.40776407 -0.48772236  0.11573841 ...  1.17646583  0.4032249\n",
            "  -0.86530163]\n",
            " [-0.41500016 -0.48772236  0.11573841 ...  1.17646583  0.44105193\n",
            "  -0.66905833]]\n"
          ]
        }
      ]
    },
    {
      "cell_type": "code",
      "metadata": {
        "colab": {
          "base_uri": "https://localhost:8080/"
        },
        "id": "doIl6kNHG-K7",
        "outputId": "704b5f68-d13f-4be0-fee3-a9894ddabfc7"
      },
      "source": [
        "from sklearn.linear_model import LinearRegression\n",
        "regression = LinearRegression(normalize=True)\n",
        "regression.fit(X,y)\n",
        "#fit the linear model of x and y"
      ],
      "execution_count": null,
      "outputs": [
        {
          "data": {
            "text/plain": [
              "LinearRegression(copy_X=True, fit_intercept=True, n_jobs=None, normalize=True)"
            ]
          },
          "execution_count": 65,
          "metadata": {},
          "output_type": "execute_result"
        }
      ]
    },
    {
      "cell_type": "markdown",
      "metadata": {
        "id": "icI_84NnR0Te"
      },
      "source": [
        "From sklearn, linear model will be import Linear Regression, from linear regression we will normalise the regressors X before regression \n",
        "\n",
        "After we fit a linear model\n"
      ]
    },
    {
      "cell_type": "markdown",
      "metadata": {
        "id": "Y74gIHwHYtrk"
      },
      "source": [
        "**Below we will be checking the fit of the linear model by the use of R^2**\n",
        "1. *Fitting* - is when a line of curve which matches the data points from the dataset. **\n",
        "2. When a line follows the data points too closely- **it is overfitted**\n",
        "3. When a line doesn't follow the data point closely enough - **it is underfitted**\n",
        "**Over fitting and underfitting cause inaccurate predictions**\n"
      ]
    },
    {
      "cell_type": "code",
      "metadata": {
        "colab": {
          "base_uri": "https://localhost:8080/"
        },
        "id": "jGUePhVGIceO",
        "outputId": "799099a9-7b41-45a1-ce48-d5649a32787c"
      },
      "source": [
        "print(regression.score(X,y))"
      ],
      "execution_count": null,
      "outputs": [
        {
          "name": "stdout",
          "output_type": "stream",
          "text": [
            "0.7406426641094094\n"
          ]
        }
      ]
    },
    {
      "cell_type": "code",
      "metadata": {
        "colab": {
          "base_uri": "https://localhost:8080/"
        },
        "id": "sHDnUICsss9l",
        "outputId": "3b3b2b8a-5979-464a-842a-2207947051b5"
      },
      "source": [
        "print([a+':'+str(round(b,2)) for a,b in zip(boston.feature_names,regression.coef_)])\n",
        "#a is a variable which will hold the variable in boston housing\n",
        "#b is a variable which will hold the coefficient() in boston housing \n",
        "#zip function will join both coefficient and variables"
      ],
      "execution_count": null,
      "outputs": [
        {
          "name": "stdout",
          "output_type": "stream",
          "text": [
            "['CRIM:-0.93', 'ZN:1.08', 'INDUS:0.14', 'CHAS:0.68', 'NOX:-2.06', 'RM:2.67', 'AGE:0.02', 'DIS:-3.1', 'RAD:2.66', 'TAX:-2.08', 'PTRATIO:-2.06', 'B:0.85', 'LSTAT:-3.74']\n"
          ]
        }
      ]
    },
    {
      "cell_type": "markdown",
      "metadata": {
        "id": "m7MZ1yT2xk4W"
      },
      "source": [
        "**Variable Tranformation**\n",
        "\n",
        "\n",
        "*  *Variable Transformation*- Is changing variables to work better on the model. The few ways to perform variable transformation: \n",
        "1. Numerical Variable Transformation- Changing from one numerical variable to another numerical variable\n",
        ">Examples of Numerical transformation:\n",
        ">>1. Min-Max\n",
        ">>2. Standardisation\n",
        ">>3. Logarithmic Transformation\n",
        "2. Categorical Variable Transformation- Change from categorical variable to numerical variable.\n",
        ">Examples of Categorical transformation\n",
        ">>1.One hot encoding  \n",
        ">>2.Label encoding\n",
        ">>3.Feature Hashing\n",
        "\n",
        "\n",
        "\n"
      ]
    },
    {
      "cell_type": "code",
      "metadata": {
        "colab": {
          "base_uri": "https://localhost:8080/"
        },
        "id": "voExnRUz1Et2",
        "outputId": "e4196e29-6cb5-4f97-8394-35772a7f969e"
      },
      "source": [
        "from sklearn.datasets import load_boston\n",
        "import random\n",
        "from random import shuffle\n",
        "\n",
        "boston = load_boston()\n",
        "random.seed(0) #Create a replicable shuffling \n",
        "new_index= list(range(boston.data.shape[0]))\n",
        "shuffle(new_index) #shuffle the index\n",
        "X,y = boston.data[new_index],boston.target[new_index]\n",
        "#The X,y will shuffled\n",
        "print(X.shape,y.shape,boston.feature_names)\n",
        "#Use the shape to print the size of the given variabe\n",
        "#Xshape is the (506 rows and 13 Columns)\n",
        "#yshape is the 506 rows \n",
        "#boston.feature_names is the name of the given columns"
      ],
      "execution_count": null,
      "outputs": [
        {
          "output_type": "stream",
          "name": "stdout",
          "text": [
            "(506, 13) (506,) ['CRIM' 'ZN' 'INDUS' 'CHAS' 'NOX' 'RM' 'AGE' 'DIS' 'RAD' 'TAX' 'PTRATIO'\n",
            " 'B' 'LSTAT']\n"
          ]
        }
      ]
    },
    {
      "cell_type": "code",
      "metadata": {
        "colab": {
          "base_uri": "https://localhost:8080/",
          "height": 424
        },
        "id": "Y0oSu1T92dak",
        "outputId": "7938612d-87d3-45eb-97f0-9f5ef5459da6"
      },
      "source": [
        "import pandas as pd\n",
        "df = pd.DataFrame(X,columns=boston.feature_names)\n",
        "df['target']=y\n",
        "df.dropna()"
      ],
      "execution_count": null,
      "outputs": [
        {
          "output_type": "execute_result",
          "data": {
            "text/html": [
              "<div>\n",
              "<style scoped>\n",
              "    .dataframe tbody tr th:only-of-type {\n",
              "        vertical-align: middle;\n",
              "    }\n",
              "\n",
              "    .dataframe tbody tr th {\n",
              "        vertical-align: top;\n",
              "    }\n",
              "\n",
              "    .dataframe thead th {\n",
              "        text-align: right;\n",
              "    }\n",
              "</style>\n",
              "<table border=\"1\" class=\"dataframe\">\n",
              "  <thead>\n",
              "    <tr style=\"text-align: right;\">\n",
              "      <th></th>\n",
              "      <th>CRIM</th>\n",
              "      <th>ZN</th>\n",
              "      <th>INDUS</th>\n",
              "      <th>CHAS</th>\n",
              "      <th>NOX</th>\n",
              "      <th>RM</th>\n",
              "      <th>AGE</th>\n",
              "      <th>DIS</th>\n",
              "      <th>RAD</th>\n",
              "      <th>TAX</th>\n",
              "      <th>PTRATIO</th>\n",
              "      <th>B</th>\n",
              "      <th>LSTAT</th>\n",
              "      <th>target</th>\n",
              "    </tr>\n",
              "  </thead>\n",
              "  <tbody>\n",
              "    <tr>\n",
              "      <th>0</th>\n",
              "      <td>9.33889</td>\n",
              "      <td>0.0</td>\n",
              "      <td>18.10</td>\n",
              "      <td>0.0</td>\n",
              "      <td>0.679</td>\n",
              "      <td>6.380</td>\n",
              "      <td>95.6</td>\n",
              "      <td>1.9682</td>\n",
              "      <td>24.0</td>\n",
              "      <td>666.0</td>\n",
              "      <td>20.2</td>\n",
              "      <td>60.72</td>\n",
              "      <td>24.08</td>\n",
              "      <td>9.5</td>\n",
              "    </tr>\n",
              "    <tr>\n",
              "      <th>1</th>\n",
              "      <td>0.08447</td>\n",
              "      <td>0.0</td>\n",
              "      <td>4.05</td>\n",
              "      <td>0.0</td>\n",
              "      <td>0.510</td>\n",
              "      <td>5.859</td>\n",
              "      <td>68.7</td>\n",
              "      <td>2.7019</td>\n",
              "      <td>5.0</td>\n",
              "      <td>296.0</td>\n",
              "      <td>16.6</td>\n",
              "      <td>393.23</td>\n",
              "      <td>9.64</td>\n",
              "      <td>22.6</td>\n",
              "    </tr>\n",
              "    <tr>\n",
              "      <th>2</th>\n",
              "      <td>0.34006</td>\n",
              "      <td>0.0</td>\n",
              "      <td>21.89</td>\n",
              "      <td>0.0</td>\n",
              "      <td>0.624</td>\n",
              "      <td>6.458</td>\n",
              "      <td>98.9</td>\n",
              "      <td>2.1185</td>\n",
              "      <td>4.0</td>\n",
              "      <td>437.0</td>\n",
              "      <td>21.2</td>\n",
              "      <td>395.04</td>\n",
              "      <td>12.60</td>\n",
              "      <td>19.2</td>\n",
              "    </tr>\n",
              "    <tr>\n",
              "      <th>3</th>\n",
              "      <td>67.92080</td>\n",
              "      <td>0.0</td>\n",
              "      <td>18.10</td>\n",
              "      <td>0.0</td>\n",
              "      <td>0.693</td>\n",
              "      <td>5.683</td>\n",
              "      <td>100.0</td>\n",
              "      <td>1.4254</td>\n",
              "      <td>24.0</td>\n",
              "      <td>666.0</td>\n",
              "      <td>20.2</td>\n",
              "      <td>384.97</td>\n",
              "      <td>22.98</td>\n",
              "      <td>5.0</td>\n",
              "    </tr>\n",
              "    <tr>\n",
              "      <th>4</th>\n",
              "      <td>18.49820</td>\n",
              "      <td>0.0</td>\n",
              "      <td>18.10</td>\n",
              "      <td>0.0</td>\n",
              "      <td>0.668</td>\n",
              "      <td>4.138</td>\n",
              "      <td>100.0</td>\n",
              "      <td>1.1370</td>\n",
              "      <td>24.0</td>\n",
              "      <td>666.0</td>\n",
              "      <td>20.2</td>\n",
              "      <td>396.90</td>\n",
              "      <td>37.97</td>\n",
              "      <td>13.8</td>\n",
              "    </tr>\n",
              "    <tr>\n",
              "      <th>...</th>\n",
              "      <td>...</td>\n",
              "      <td>...</td>\n",
              "      <td>...</td>\n",
              "      <td>...</td>\n",
              "      <td>...</td>\n",
              "      <td>...</td>\n",
              "      <td>...</td>\n",
              "      <td>...</td>\n",
              "      <td>...</td>\n",
              "      <td>...</td>\n",
              "      <td>...</td>\n",
              "      <td>...</td>\n",
              "      <td>...</td>\n",
              "      <td>...</td>\n",
              "    </tr>\n",
              "    <tr>\n",
              "      <th>501</th>\n",
              "      <td>0.19802</td>\n",
              "      <td>0.0</td>\n",
              "      <td>10.59</td>\n",
              "      <td>0.0</td>\n",
              "      <td>0.489</td>\n",
              "      <td>6.182</td>\n",
              "      <td>42.4</td>\n",
              "      <td>3.9454</td>\n",
              "      <td>4.0</td>\n",
              "      <td>277.0</td>\n",
              "      <td>18.6</td>\n",
              "      <td>393.63</td>\n",
              "      <td>9.47</td>\n",
              "      <td>25.0</td>\n",
              "    </tr>\n",
              "    <tr>\n",
              "      <th>502</th>\n",
              "      <td>4.75237</td>\n",
              "      <td>0.0</td>\n",
              "      <td>18.10</td>\n",
              "      <td>0.0</td>\n",
              "      <td>0.713</td>\n",
              "      <td>6.525</td>\n",
              "      <td>86.5</td>\n",
              "      <td>2.4358</td>\n",
              "      <td>24.0</td>\n",
              "      <td>666.0</td>\n",
              "      <td>20.2</td>\n",
              "      <td>50.92</td>\n",
              "      <td>18.13</td>\n",
              "      <td>14.1</td>\n",
              "    </tr>\n",
              "    <tr>\n",
              "      <th>503</th>\n",
              "      <td>14.33370</td>\n",
              "      <td>0.0</td>\n",
              "      <td>18.10</td>\n",
              "      <td>0.0</td>\n",
              "      <td>0.700</td>\n",
              "      <td>4.880</td>\n",
              "      <td>100.0</td>\n",
              "      <td>1.5895</td>\n",
              "      <td>24.0</td>\n",
              "      <td>666.0</td>\n",
              "      <td>20.2</td>\n",
              "      <td>372.92</td>\n",
              "      <td>30.62</td>\n",
              "      <td>10.2</td>\n",
              "    </tr>\n",
              "    <tr>\n",
              "      <th>504</th>\n",
              "      <td>0.04666</td>\n",
              "      <td>80.0</td>\n",
              "      <td>1.52</td>\n",
              "      <td>0.0</td>\n",
              "      <td>0.404</td>\n",
              "      <td>7.107</td>\n",
              "      <td>36.6</td>\n",
              "      <td>7.3090</td>\n",
              "      <td>2.0</td>\n",
              "      <td>329.0</td>\n",
              "      <td>12.6</td>\n",
              "      <td>354.31</td>\n",
              "      <td>8.61</td>\n",
              "      <td>30.3</td>\n",
              "    </tr>\n",
              "    <tr>\n",
              "      <th>505</th>\n",
              "      <td>6.44405</td>\n",
              "      <td>0.0</td>\n",
              "      <td>18.10</td>\n",
              "      <td>0.0</td>\n",
              "      <td>0.584</td>\n",
              "      <td>6.425</td>\n",
              "      <td>74.8</td>\n",
              "      <td>2.2004</td>\n",
              "      <td>24.0</td>\n",
              "      <td>666.0</td>\n",
              "      <td>20.2</td>\n",
              "      <td>97.95</td>\n",
              "      <td>12.03</td>\n",
              "      <td>16.1</td>\n",
              "    </tr>\n",
              "  </tbody>\n",
              "</table>\n",
              "<p>506 rows × 14 columns</p>\n",
              "</div>"
            ],
            "text/plain": [
              "         CRIM    ZN  INDUS  CHAS    NOX  ...    TAX  PTRATIO       B  LSTAT  target\n",
              "0     9.33889   0.0  18.10   0.0  0.679  ...  666.0     20.2   60.72  24.08     9.5\n",
              "1     0.08447   0.0   4.05   0.0  0.510  ...  296.0     16.6  393.23   9.64    22.6\n",
              "2     0.34006   0.0  21.89   0.0  0.624  ...  437.0     21.2  395.04  12.60    19.2\n",
              "3    67.92080   0.0  18.10   0.0  0.693  ...  666.0     20.2  384.97  22.98     5.0\n",
              "4    18.49820   0.0  18.10   0.0  0.668  ...  666.0     20.2  396.90  37.97    13.8\n",
              "..        ...   ...    ...   ...    ...  ...    ...      ...     ...    ...     ...\n",
              "501   0.19802   0.0  10.59   0.0  0.489  ...  277.0     18.6  393.63   9.47    25.0\n",
              "502   4.75237   0.0  18.10   0.0  0.713  ...  666.0     20.2   50.92  18.13    14.1\n",
              "503  14.33370   0.0  18.10   0.0  0.700  ...  666.0     20.2  372.92  30.62    10.2\n",
              "504   0.04666  80.0   1.52   0.0  0.404  ...  329.0     12.6  354.31   8.61    30.3\n",
              "505   6.44405   0.0  18.10   0.0  0.584  ...  666.0     20.2   97.95  12.03    16.1\n",
              "\n",
              "[506 rows x 14 columns]"
            ]
          },
          "metadata": {},
          "execution_count": 3
        }
      ]
    },
    {
      "cell_type": "code",
      "metadata": {
        "colab": {
          "base_uri": "https://localhost:8080/"
        },
        "id": "wSiQn1XF6lvC",
        "outputId": "3fc123fb-3820-459a-9776-eafe26a16b96"
      },
      "source": [
        "print(df)"
      ],
      "execution_count": null,
      "outputs": [
        {
          "output_type": "stream",
          "name": "stdout",
          "text": [
            "         CRIM    ZN  INDUS  CHAS    NOX  ...    TAX  PTRATIO       B  LSTAT  target\n",
            "0     9.33889   0.0  18.10   0.0  0.679  ...  666.0     20.2   60.72  24.08     9.5\n",
            "1     0.08447   0.0   4.05   0.0  0.510  ...  296.0     16.6  393.23   9.64    22.6\n",
            "2     0.34006   0.0  21.89   0.0  0.624  ...  437.0     21.2  395.04  12.60    19.2\n",
            "3    67.92080   0.0  18.10   0.0  0.693  ...  666.0     20.2  384.97  22.98     5.0\n",
            "4    18.49820   0.0  18.10   0.0  0.668  ...  666.0     20.2  396.90  37.97    13.8\n",
            "..        ...   ...    ...   ...    ...  ...    ...      ...     ...    ...     ...\n",
            "501   0.19802   0.0  10.59   0.0  0.489  ...  277.0     18.6  393.63   9.47    25.0\n",
            "502   4.75237   0.0  18.10   0.0  0.713  ...  666.0     20.2   50.92  18.13    14.1\n",
            "503  14.33370   0.0  18.10   0.0  0.700  ...  666.0     20.2  372.92  30.62    10.2\n",
            "504   0.04666  80.0   1.52   0.0  0.404  ...  329.0     12.6  354.31   8.61    30.3\n",
            "505   6.44405   0.0  18.10   0.0  0.584  ...  666.0     20.2   97.95  12.03    16.1\n",
            "\n",
            "[506 rows x 14 columns]\n"
          ]
        }
      ]
    },
    {
      "cell_type": "code",
      "metadata": {
        "colab": {
          "base_uri": "https://localhost:8080/",
          "height": 279
        },
        "id": "V-rT1x4Y53w_",
        "outputId": "a2973d6a-eb75-4168-f973-9ac2195ec909"
      },
      "source": [
        "ax = df.plot(kind='scatter',x='LSTAT',y='target',c='m')\n",
        "#Plot the kind as a scatterplot, on the X asis as LSTAT and y as Target with colour blue"
      ],
      "execution_count": null,
      "outputs": [
        {
          "output_type": "display_data",
          "data": {
            "image/png": "[encoded data removed]",
            "text/plain": [
              "<Figure size 432x288 with 1 Axes>"
            ]
          },
          "metadata": {
            "needs_background": "light"
          }
        }
      ]
    },
    {
      "cell_type": "markdown",
      "metadata": {
        "id": "9dia8h-775qN"
      },
      "source": [
        "When LSTAT is increasing the target is decreasing making a reduction in variation.\n",
        "On the otherhand when LSTAT is between 5-20, the target is concentrated showing an increase in variation.\n",
        "\n",
        "Logarithmic transformation is a way to help with non linear relationship, however the values should range from 0 and 1 i.e percentage"
      ]
    },
    {
      "cell_type": "code",
      "metadata": {
        "colab": {
          "base_uri": "https://localhost:8080/"
        },
        "id": "R2OXaznqA2lE",
        "outputId": "9d86a293-2a09-4f5a-8169-e704bbdf83ee"
      },
      "source": [
        "import numpy as np \n",
        "from sklearn.feature_selection import f_regression\n",
        "single_variable = df['LSTAT'].values.reshape(-1,1)\n",
        "F, pval = f_regression(single_variable,y)\n",
        "print('F score for the original feature %.1f '%F)\n",
        "F, pval = f_regression(np.log(single_variable),y)\n",
        "print('F score for the transformed feature %.1f '%F)"
      ],
      "execution_count": null,
      "outputs": [
        {
          "output_type": "stream",
          "name": "stdout",
          "text": [
            "F score for the original feature 601.6 \n",
            "F score for the transformed feature 1000.2 \n"
          ]
        }
      ]
    },
    {
      "cell_type": "markdown",
      "metadata": {
        "id": "p8jC-4lmA2Qf"
      },
      "source": [
        "**Feature selection is used to reduce the number of input variable** \n",
        "\n",
        "*The f_regression* **is used for univariate modelling where it tests the individual effect of each regressor.**\n",
        "\n",
        "**np**- is used to do logarithm (x)\n",
        "\n",
        "Feature Score(F score) is used for variable selection, since it is used to measure to evaluate how predictive a feature is in a ML Problem, can be used to assess the usefulness of a transformation.\n",
        "\n",
        "i.e. The F score for the original feature of LSTAT is 606.1,the logarithmic(log) of feature is 1000.2\n",
        "\n",
        "\n"
      ]
    },
    {
      "cell_type": "code",
      "metadata": {
        "id": "8xrUxS0-ZgDK"
      },
      "source": [
        "\n",
        "from sklearn.linear_model import LinearRegression\n",
        "from sklearn.model_selection import cross_val_score, KFold\n",
        "regression = LinearRegression(normalize=True)\n",
        "crossvalidation = KFold(n_splits=10,shuffle=True,random_state=1)"
      ],
      "execution_count": null,
      "outputs": []
    },
    {
      "cell_type": "code",
      "metadata": {
        "colab": {
          "base_uri": "https://localhost:8080/"
        },
        "id": "pqTKWCO8Z-WE",
        "outputId": "b827fb8a-589f-4911-ddf4-59e95d091714"
      },
      "source": [
        "df = pd.DataFrame(X,columns=boston.feature_names)\n",
        "baseline = np.mean(cross_val_score(regression,df,y,scoring='r2',cv=crossvalidation))\n",
        "\n",
        "interactions = list()\n",
        "for var_A in boston.feature_names:\n",
        "  for var_B in boston.feature_names:\n",
        "    if var_A > var_B:\n",
        "      df['interactions'] = df[var_A] * df[var_B]\n",
        "      cv = cross_val_score(regression,df,y,scoring='r2',cv=crossvalidation)\n",
        "      score = round(np.mean(cv),3)\n",
        "      if score > baseline:\n",
        "        interactions.append((var_A,var_B,score))\n",
        "print('Baseline R2: %.3f '%baseline)\n",
        "print('Top 10 interactions: %s' % sorted(interactions, key=lambda x:x[2],reverse=True)[:10])"
      ],
      "execution_count": null,
      "outputs": [
        {
          "output_type": "stream",
          "name": "stdout",
          "text": [
            "Baseline R2: 0.716 \n",
            "Top 10 interactions: [('RM', 'LSTAT', 0.79), ('TAX', 'RM', 0.782), ('RM', 'RAD', 0.778), ('RM', 'PTRATIO', 0.766), ('RM', 'INDUS', 0.76), ('RM', 'NOX', 0.747), ('RM', 'AGE', 0.742), ('RM', 'B', 0.738), ('RM', 'DIS', 0.736), ('ZN', 'RM', 0.73)]\n"
          ]
        }
      ]
    },
    {
      "cell_type": "code",
      "metadata": {
        "colab": {
          "base_uri": "https://localhost:8080/",
          "height": 279
        },
        "id": "PhZdZr7FAr9C",
        "outputId": "c0ce28e7-c75b-45ce-879c-9e5d99100d79"
      },
      "source": [
        "colors= ['b'if v > np.mean(y) else 'r' for v in y]\n",
        "#Scatter is blue when the the v is greater than the mean of target otherwise use red for the scatter\n",
        "scatter = df.plot(kind='scatter',x='RM',y='LSTAT',c=colors)\n",
        "#The combined variables from LSAT and RM help separate high from the Low prices"
      ],
      "execution_count": null,
      "outputs": [
        {
          "output_type": "display_data",
          "data": {
            "image/png": "[encoded data removed]",
            "text/plain": [
              "<Figure size 432x288 with 1 Axes>"
            ]
          },
          "metadata": {
            "needs_background": "light"
          }
        }
      ]
    },
    {
      "cell_type": "markdown",
      "metadata": {
        "id": "zFpmXq_bD9QI"
      },
      "source": [
        "**Polynomial regression**, comes about when interactions are added which extends the liner regression \n",
        "\n",
        "The code below redefines the set of predictors using interactions and quadratic terms by squaring the variables\n"
      ]
    },
    {
      "cell_type": "code",
      "metadata": {
        "colab": {
          "base_uri": "https://localhost:8080/",
          "height": 279
        },
        "id": "of4MSN70Ezf3",
        "outputId": "c39d6c4a-6d65-4136-d8f1-a82e17550b52"
      },
      "source": [
        "polyX = pd.DataFrame(X,columns=boston.feature_names)\n",
        "cv = cross_val_score(regression,polyX,y,scoring='neg_mean_squared_error',cv=crossvalidation)\n",
        "baseline = np.mean(cv)\n",
        "improvements =[baseline]\n",
        "for var_A in boston.feature_names:\n",
        "  polyX[var_A+'^2'] = polyX[var_A]**2\n",
        "  cv = cross_val_score(regression,polyX,y,scoring='neg_mean_squared_error',cv=crossvalidation)\n",
        "  improvements.append(np.mean(cv))\n",
        "  for var_B in boston.feature_names:\n",
        "    if var_A > var_B:\n",
        "      poly_var = var_A + '*' + var_B\n",
        "      polyX[poly_var] = polyX[var_A] * polyX[var_B]\n",
        "      cv = cross_val_score(regression,polyX,y,scoring='neg_mean_squared_error',cv=crossvalidation)\n",
        "      improvements.append(np.mean(cv))\n",
        "import matplotlib.pyplot as plt\n",
        "plt.figure()\n",
        "plt.plot(range(0,92),np.abs(improvements),'-')\n",
        "plt.xlabel('Added polynomial features')\n",
        "plt.ylabel('Mean squared error')\n",
        "plt.show()\n",
        "  \n",
        " "
      ],
      "execution_count": null,
      "outputs": [
        {
          "output_type": "display_data",
          "data": {
            "image/png": "[encoded data removed]",
            "text/plain": [
              "<Figure size 432x288 with 1 Axes>"
            ]
          },
          "metadata": {
            "needs_background": "light"
          }
        }
      ]
    },
    {
      "cell_type": "code",
      "metadata": {
        "colab": {
          "base_uri": "https://localhost:8080/"
        },
        "id": "Xj8lYyAwK4_b",
        "outputId": "8c1c251c-21dc-4791-e6c7-d95bfc058324"
      },
      "source": [
        "print('New shape of X: ', np.shape(polyX))\n",
        "crossvalidation = KFold(n_splits=10,shuffle=True,random_state=1)\n",
        "cv = cross_val_score(regression,polyX,y,scoring='neg_mean_squared_error',cv=crossvalidation)\n",
        "print('Mean Squared Error: %.3f'%abs(np.mean(cv)))"
      ],
      "execution_count": null,
      "outputs": [
        {
          "output_type": "stream",
          "name": "stdout",
          "text": [
            "New shape of X:  (506, 104)\n",
            "Mean Squared Error: 12.529\n"
          ]
        }
      ]
    },
    {
      "cell_type": "code",
      "metadata": {
        "colab": {
          "base_uri": "https://localhost:8080/"
        },
        "id": "hQH9ZSr37ff_",
        "outputId": "9ed59893-2560-43b4-93ec-08837d57cc83"
      },
      "source": [
        "#Use of the fit() method\n",
        "from sklearn.linear_model import SGDRegressor\n",
        "from sklearn.preprocessing import StandardScaler\n",
        "\n",
        "SGD = SGDRegressor(loss='squared_loss',penalty='l2',alpha=0.0001,l1_ratio=0.15,max_iter=2000,random_state=1)\n",
        "#SGDRegressor is a cost reduction fucntion which uses a single point which will calculate the loss function \n",
        "scaling = StandardScaler()\n",
        "scaling.fit(polyX)\n",
        "scaled_X= scaling.transform(polyX)\n",
        "cv = cross_val_score(SGD,scaled_X,y,scoring='neg_mean_squared_error',cv=crossvalidation)\n",
        "score = abs(np.mean(cv))\n",
        "print('CV MSE(Mean Squared Error): %.3f'%score)\n"
      ],
      "execution_count": null,
      "outputs": [
        {
          "output_type": "stream",
          "name": "stdout",
          "text": [
            "CV MSE(Mean Squared Error): 13.495\n"
          ]
        }
      ]
    },
    {
      "cell_type": "markdown",
      "metadata": {
        "id": "YS8vDVQZDnQC"
      },
      "source": [
        "**The parameters of a SGDRegressor use above:**\n",
        "1. *loss* - the loss function to be used, the default squared loss function, which focuses on least squared fit.\n",
        "2. *penalty* - the regulisation term used, l2 is the standard regulariser for linear SVM.\n",
        "3. *alpha *- the constant that is used on to multiply the regulisation term (penalty,l2)\n",
        "4. *l1_ratio*-the elastic net mixing parameter\n",
        "5. *max_iter*- the maximum number of iterations to oc\n",
        "6. *random_state *-the random state instant.\n",
        "\n"
      ]
    },
    {
      "cell_type": "code",
      "metadata": {
        "colab": {
          "base_uri": "https://localhost:8080/",
          "height": 279
        },
        "id": "OL4WOB8nJrZu",
        "outputId": "643f6d01-e633-4b33-ec05-f0751c6323e6"
      },
      "source": [
        "#USe of partial fit \n",
        "from sklearn.metrics import mean_squared_error\n",
        "from sklearn.model_selection import train_test_split\n",
        "\n",
        "X_tr, X_t, y_tr, y_t = train_test_split(scaled_X,y,test_size=0.20,random_state=2)\n",
        "\n",
        "SGD = SGDRegressor(loss='squared_loss',penalty='l2',alpha=0.0001,l1_ratio=0.15,max_iter=2000,random_state=1)\n",
        "improvements = list()\n",
        "for z in range(10000):\n",
        "  SGD.partial_fit(X_tr,y_tr)\n",
        "  score = mean_squared_error(y_t,SGD.predict(X_t))\n",
        "  improvements.append(score)\n",
        "\n",
        "import matplotlib.pyplot as plt\n",
        "import numpy as np\n",
        "\n",
        "plt.figure(figsize=(8,4))\n",
        "plt.subplot(1,2,1)\n",
        "range_1 = range(1,101,10)\n",
        "score_1 = np.abs(improvements[:100:10])\n",
        "plt.plot(range_1,score_1,'o--')\n",
        "plt.xlabel('Iterations upto 100')\n",
        "plt.ylabel('Test Mean Squared Error')\n",
        "plt.subplot(1,2,2)\n",
        "range_2 = range(100,10000,500)\n",
        "score_2 = np.abs(improvements[100:10000:500])\n",
        "plt.plot(range_2,score_2,'o--')\n",
        "plt.xlabel('Iteration from 101 to 10000')\n",
        "plt.show()\n",
        "#After around 2000 itteration we start to see the mean squared error is increasing showing we have started to overfit the data"
      ],
      "execution_count": null,
      "outputs": [
        {
          "output_type": "display_data",
          "data": {
            "image/png": "[encoded data removed]",
            "text/plain": [
              "<Figure size 576x288 with 2 Axes>"
            ]
          },
          "metadata": {
            "needs_background": "light"
          }
        }
      ]
    }
  ]
}