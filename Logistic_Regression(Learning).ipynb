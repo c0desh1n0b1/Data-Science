{
  "nbformat": 4,
  "nbformat_minor": 0,
  "metadata": {
    "colab": {
      "name": "Logistic Regression(Learning).ipynb",
      "provenance": [],
      "authorship_tag": "ABX9TyOKbVgWEZ1qcPBsiK564m0A",
      "include_colab_link": true
    },
    "kernelspec": {
      "name": "python3",
      "display_name": "Python 3"
    },
    "language_info": {
      "name": "python"
    }
  },
  "cells": [
    {
      "cell_type": "markdown",
      "metadata": {
        "id": "view-in-github",
        "colab_type": "text"
      },
      "source": [
        "<a href=\"https://colab.research.google.com/github/c0desh1n0b1/Data-Science/blob/Logistic-Regression(Learning)/Logistic_Regression(Learning).ipynb\" target=\"_parent\"><img src=\"https://colab.research.google.com/assets/colab-badge.svg\" alt=\"Open In Colab\"/></a>"
      ]
    },
    {
      "cell_type": "markdown",
      "metadata": {
        "id": "6_jAIH34RaW3"
      },
      "source": [
        "#Logistic Regression \n",
        "This is my logostic Regression learning lesson, I will be using Data Science for dummies as well as Hands on Machine Learning. \n",
        "\n",
        "After Completing I will partake in a personal project which can be found on my repository "
      ]
    },
    {
      "cell_type": "code",
      "metadata": {
        "id": "hnhEyDMBSIje"
      },
      "source": [
        ""
      ],
      "execution_count": null,
      "outputs": []
    }
  ]
}